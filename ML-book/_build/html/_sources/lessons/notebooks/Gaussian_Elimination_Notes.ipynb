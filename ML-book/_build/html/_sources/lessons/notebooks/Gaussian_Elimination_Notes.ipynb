{
 "cells": [
  {
   "cell_type": "markdown",
   "metadata": {},
   "source": [
    "# Gaussian Elimination"
   ]
  },
  {
   "cell_type": "markdown",
   "metadata": {},
   "source": [
    "Gaussian elimination is an algorithm for solving  a linear system by matrix operations. You will write code that performs Gaussian elimination on a solvable system and returns the solution. First, we work through an instructive example."
   ]
  },
  {
   "cell_type": "markdown",
   "metadata": {},
   "source": [
    "## Derivation"
   ]
  },
  {
   "cell_type": "markdown",
   "metadata": {},
   "source": [
    "$$\n",
    "\\begin{aligned}\n",
    "x + 2y - z &= 1 \\\\\n",
    "2x - y + 3z &= 5 \\\\\n",
    "3x + y + 3z &= 10\n",
    "\\end{aligned}\n",
    "$$\n",
    "Now, we'll solve this system using reduced row echelon form (RREF).\n",
    "\n",
    "### Step 1: Write the Augmented Matrix\n",
    "\n",
    "The augmented matrix for this system is:\n",
    "$$\n",
    "\\begin{pmatrix}\n",
    "1 & 2 & -1 & \\vert & 1 \\\\\n",
    "2 & -1 & 3 & \\vert & 5 \\\\\n",
    "3 & 1 & 3 & \\vert & 10\n",
    "\\end{pmatrix}\n",
    "$$\n",
    "### Step 2: Apply Row Operations to Achieve RREF\n",
    "\n",
    "We'll perform row operations to transform the matrix into reduced row echelon form (RREF).\n",
    "\n",
    "1. **Make the pivot in the first row (top-left corner) a 1.**  \n",
    "   This is already 1, so no changes are needed."
   ]
  },
  {
   "cell_type": "markdown",
   "metadata": {},
   "source": [
    "$$\n",
    "\\begin{aligned}\n",
    "x + 2y - z &= 1 \\\\\n",
    "2x - y + 3z &= 5 \\\\\n",
    "3x + y + 3z &= 10\n",
    "\\end{aligned}\n",
    "$$\n",
    "Now, we'll solve this system using reduced row echelon form (RREF).\n",
    "\n",
    "### Step 1: Write the Augmented Matrix\n",
    "\n",
    "The augmented matrix for this system is:\n",
    "$$\n",
    "\\begin{pmatrix}\n",
    "1 & 2 & -1 & \\vert & 1 \\\\\n",
    "2 & -1 & 3 & \\vert & 5 \\\\\n",
    "3 & 1 & 3 & \\vert & 10\n",
    "\\end{pmatrix}\n",
    "$$\n",
    "### Step 2: Apply Row Operations to Achieve RREF\n",
    "\n",
    "We'll perform row operations to transform the matrix into reduced row echelon form (RREF).\n",
    "\n",
    "1. **Make the pivot in the first row (top-left corner) a 1.**  \n",
    "   This is already 1, so no changes are needed."
   ]
  },
  {
   "cell_type": "markdown",
   "metadata": {},
   "source": [
    "2. **Make the first column below the pivot zeros.**\n",
    "   - Add -2 times the first row to the second row:\n",
    "     $R_2 \\rightarrow R_2 - 2R_1$\n",
    "     \n",
    "     $$\n",
    "     \\begin{pmatrix}\n",
    "     1 & 2 & -1 & \\vert & 1 \\\\\n",
    "     0 & -5 & 5 & \\vert & 3 \\\\\n",
    "     3 & 1 & 3 & \\vert & 10\n",
    "     \\end{pmatrix}\n",
    "     $$\n",
    "     \n",
    "   - Add -3 times the first row to the third row:\n",
    "     $R_3 \\rightarrow R_3 - 3R_1$\n",
    "  \n",
    "     \n",
    "     $$\n",
    "     \\begin{pmatrix}\n",
    "     1 & 2 & -1 & \\vert & 1 \\\\\n",
    "     0 & -5 & 5 & \\vert & 3 \\\\\n",
    "     0 & -5 & 6 & \\vert & 7\n",
    "     \\end{pmatrix}\n",
    "     $$"
   ]
  },
  {
   "cell_type": "markdown",
   "metadata": {},
   "source": [
    "3. **Make the pivot in the second row a 1.**\n",
    "   - Divide the second row by -5:\n",
    "     $R_2 \\rightarrow \\frac{1}{-5}R_2$\n",
    "     $$\\begin{pmatrix}\n",
    "     1 & 2 & -1 & \\vert & 1 \\\\\n",
    "     0 & 1 & -1 & \\vert & -\\frac{3}{5} \\\\\n",
    "     0 & -5 & 6 & \\vert & 7\n",
    "     \\end{pmatrix}\n",
    "     $$\n",
    "\n",
    "4. **Make the second column below the pivot zeros.**\n",
    "   - Add 5 times the second row to the third row:\n",
    "     $R_3 \\rightarrow R_3 + 5R_2$\n",
    "     \n",
    "     $$\\begin{pmatrix}\n",
    "     1 & 2 & -1 & \\vert & 1 \\\\\n",
    "     0 & 1 & -1 & \\vert & -\\frac{3}{5} \\\\\n",
    "     0 & 0 & 1 & \\vert & 4\n",
    "     \\end{pmatrix}\n",
    "     $$\n",
    "     \n",
    "5. **Make the third column above the pivot zeros.**\n",
    "   - Add 1 times the third row to the second row:\n",
    "     $R_2 \\rightarrow R_2 + 1R_3$\n",
    "\n",
    "     $$\\begin{pmatrix}\n",
    "     1 & 2 & -1 & \\vert & 1 \\\\\n",
    "     0 & 1 & 0 & \\vert & \\frac{17}{5} \\\\\n",
    "     0 & 0 & 1 & \\vert & 4\n",
    "     \\end{pmatrix}\n",
    "     $$\n",
    "   - Add 1 times the third row to the first row:\n",
    "     $R_1 \\rightarrow R_1 + 1R_3$\n",
    "  \n",
    "     \n",
    "     $$\\begin{pmatrix}\n",
    "     1 & 2 & 0 & \\vert & 5 \\\\\n",
    "     0 & 1 & 0 & \\vert & \\frac{17}{5} \\\\\n",
    "     0 & 0 & 1 & \\vert & 4\n",
    "     \\end{pmatrix}\n",
    "     $$\n",
    "\n",
    "7. **Make the second column above the pivot zeros.**\n",
    "   - Add -2 times the second row to the first row:\n",
    "     $R_1 \\rightarrow R_1 - 2R_2$\n",
    "     \n",
    "     $$\n",
    "     \\begin{pmatrix}\n",
    "     1 & 0 & 0 & \\vert & -\\frac{9}{5} \\\\\n",
    "     0 & 1 & 0 & \\vert & \\frac{17}{5} \\\\\n",
    "     0 & 0 & 1 & \\vert & 4\n",
    "     \\end{pmatrix}\n",
    "     $$"
   ]
  },
  {
   "cell_type": "markdown",
   "metadata": {},
   "source": [
    "### Step 3: Extract the solution\n",
    "\n",
    "The system has a unique solution, given by the final column.\n",
    "\n",
    "$$\n",
    "x = -\\frac95, \\quad y = \\frac{17}{5}, \\quad z = 4\n",
    "$$\n"
   ]
  }
 ],
 "metadata": {
  "language_info": {
   "name": "python"
  }
 },
 "nbformat": 4,
 "nbformat_minor": 2
}
