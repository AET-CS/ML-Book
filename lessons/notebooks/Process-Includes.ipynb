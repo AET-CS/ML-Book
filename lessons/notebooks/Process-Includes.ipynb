{
 "cells": [
  {
   "cell_type": "code",
   "execution_count": 45,
   "id": "dcb03a93-1f63-4654-8eaf-0e1a64515971",
   "metadata": {},
   "outputs": [],
   "source": [
    "with open(\"imports.txt\", \"r\") as f:\n",
    "    result = []\n",
    "    for line in f.readlines():\n",
    "        line = line.replace('\"',\"\")\n",
    "        line = line.replace(',',\" \")\n",
    "\n",
    "        line = line.replace('\\\\n',\"\")\n",
    "        _, stmt = line.strip().split(\": \", 1)\n",
    "        words = stmt.split()\n",
    "        if words[0]=='from':\n",
    "            result += [words[1].split(\".\")[0]]\n",
    "        if words[0]=='import':\n",
    "            result += [words[1].split(\".\")[0]]\n"
   ]
  },
  {
   "cell_type": "code",
   "execution_count": 46,
   "id": "ac3b6a91-5b4f-46e2-9853-bdb5e614fead",
   "metadata": {},
   "outputs": [],
   "source": [
    "result = list(set(result))\n",
    "result.sort()"
   ]
  },
  {
   "cell_type": "code",
   "execution_count": 47,
   "id": "8e9072b4-a24d-4795-9ebd-fd9980f536c7",
   "metadata": {},
   "outputs": [
    {
     "data": {
      "text/plain": [
       "['PIL',\n",
       " 'astral',\n",
       " 'cv2',\n",
       " 'datetime',\n",
       " 'math',\n",
       " 'matplotlib',\n",
       " 'numpy',\n",
       " 'os',\n",
       " 'pandas',\n",
       " 'pytz',\n",
       " 'random',\n",
       " 'scipy',\n",
       " 'seaborn',\n",
       " 'sklearn',\n",
       " 'statsmodels',\n",
       " 'warnings']"
      ]
     },
     "execution_count": 47,
     "metadata": {},
     "output_type": "execute_result"
    }
   ],
   "source": [
    "result"
   ]
  },
  {
   "cell_type": "code",
   "execution_count": 48,
   "id": "6cef4335-5c5f-4292-893b-aecb2645f31c",
   "metadata": {},
   "outputs": [
    {
     "name": "stdout",
     "output_type": "stream",
     "text": [
      "pip install PIL astral cv2 datetime math matplotlib numpy os pandas pytz random scipy seaborn sklearn statsmodels warnings\n"
     ]
    }
   ],
   "source": [
    "print (\"pip install \" + \" \".join(result))"
   ]
  },
  {
   "cell_type": "code",
   "execution_count": null,
   "id": "e966bc6b-7f4d-48df-974c-07c3d7b316ba",
   "metadata": {},
   "outputs": [],
   "source": []
  }
 ],
 "metadata": {
  "kernelspec": {
   "display_name": "ML Python",
   "language": "python",
   "name": "myenv"
  },
  "language_info": {
   "codemirror_mode": {
    "name": "ipython",
    "version": 3
   },
   "file_extension": ".py",
   "mimetype": "text/x-python",
   "name": "python",
   "nbconvert_exporter": "python",
   "pygments_lexer": "ipython3",
   "version": "3.11.9"
  }
 },
 "nbformat": 4,
 "nbformat_minor": 5
}
